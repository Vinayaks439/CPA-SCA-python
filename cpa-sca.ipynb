{
 "cells": [
  {
   "cell_type": "markdown",
   "metadata": {},
   "source": [
    "CS984 - Introduction to Hardware Security\n",
    "\n",
    "Assignment - 1 \n",
    "\n",
    "Roll No: 233560040\n",
    "emailId: vinayaks23@iitk.ac.in\n",
    "\n",
    "Problem Statement.\n",
    "\n",
    "Daniel is a security engineer, and he has a got a project for side-channel analysis of\n",
    "an AES hardware implementation. He has already collected power traces for that\n",
    "AES implementation with a 128-bit key ‘K’ and have stored the traces in\n",
    "“traces_AES.csv” file. The first column in the csv file indicates the plaintext, the\n",
    "second column indicates the ciphertext and rest of the columns indicates the\n",
    "sample points. Now Daniel has to analyse the power traces and will have to find the\n",
    "AES key using Correlation Power Analysis (CPA). Help Daniel to perform the CPA\n",
    "attack."
   ]
  }
 ],
 "metadata": {
  "kernelspec": {
   "display_name": ".venv",
   "language": "python",
   "name": "python3"
  },
  "language_info": {
   "name": "python",
   "version": "3.11.6"
  }
 },
 "nbformat": 4,
 "nbformat_minor": 2
}
