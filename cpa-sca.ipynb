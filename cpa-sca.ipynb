{
 "cells": [
  {
   "cell_type": "markdown",
   "metadata": {},
   "source": [
    "\n",
    "# <div style=\"text-align: right\"> CS984 - Introduction to Hardware Security </div> \n",
    "\n",
    "##### <div style=\"text-align: right\"> Assignment - 1  </div>  \n",
    "\n",
    "##### <div style=\"text-align: right\"> Roll No: 233560040  </div>  \n",
    "\n",
    "##### <div style=\"text-align: right\"> emailId: vinayaks23@iitk.ac.in  </div>   \n",
    "\n",
    "## Problem Statement.\n",
    "\n",
    "Daniel is a security engineer, and he has a got a project for side-channel analysis of\n",
    "an AES hardware implementation. He has already collected power traces for that\n",
    "AES implementation with a 128-bit key ‘K’ and have stored the traces in\n",
    "“traces_AES.csv” file. The first column in the csv file indicates the plaintext, the\n",
    "second column indicates the ciphertext and rest of the columns indicates the\n",
    "sample points. Now Daniel has to analyse the power traces and will have to find the\n",
    "AES key using Correlation Power Analysis (CPA). Help Daniel to perform the CPA\n",
    "attack.\n",
    "\n",
    "### Given: \n",
    "\n",
    "The `traces_AES.csv` file contains three columns: **Plaintext**, **Ciphertext**, and **Traces**. This file represents actual power trace data collected from a power analysis experiment conducted on a chip. Each row corresponds to power trace measurements for 10 rounds of AES encryption associated with a specific plaintext-ciphertext pair.\n",
    "\n",
    "\n",
    "### Expectation:\n",
    "\n",
    "We have to help Daniel in analysing the power traces from the traces_AES.csv file and recover the entire AES key using Correlation Power Analysis (CPA) attack."
   ]
  },
  {
   "cell_type": "markdown",
   "metadata": {},
   "source": [
    "## Correlation Power Analysis (CPA).\n",
    "\n",
    "Like in the DoM based DPA attack, the Correlation Power Attack (CPA) also relies on targeting an intermediate computation, typically the input or output of an S-Box. These intermediate values are as seen previously computed from a known value, typically the ciphertext and a portion of the key, which is guessed. The power model is subsequently used to develop a hypothetical power trace of the device for a given input to the cipher. This hypothetical power values are then stored in a matrix for several inputs and can be indexed by the known value of the ciphertext or the guessed key byte. This matrix is denoted as H, the hypothetical power matrix. Along with this, the attacker also observes the actual power traces, and stores them in a matrix for several inputs. The actual power values can be indexed by the known value of the ciphertext and the time instance when the power value was observed. This matrix is denoted as T, the real power matrix. It may be observed that one of the columns of the matrix H corresponds to the actual key, denoted as kc. In order to distinguish the key from the others, the attacker looks for similarity between the columns of the matrix H and those of the matrix T. The similarity is typically computed\n",
    "using the Pearson’s Correlation coeﬃcient as defined in formula below. \n",
    "\n",
    "\n",
    "\n",
    "$$\"\"result[i][j] = \\frac{\\sum_{k=0}^{N_{Sample}} (hPower[i][k] - meanH[i])(trace[j][k] - meanTrace[j])}{\\sqrt{\\sum_{k=0}^{N_{Sample}} (hPower[i][k] - meanH[i])^2 \\sum_{k=0}^{N_{Sample}} (trace[j][k] - meanTrace[j])^2}}$$\n",
    "\n",
    "or Simplified as \n",
    "\n",
    "$$r = \\frac{n \\sum xy - (\\sum x)(\\sum y)}{\\sqrt{[n \\sum x^2 - (\\sum x)^2][n \\sum y^2 - (\\sum y)^2]}}$$"
   ]
  }
 ],
 "metadata": {
  "kernelspec": {
   "display_name": ".venv",
   "language": "python",
   "name": "python3"
  },
  "language_info": {
   "name": "python",
   "version": "3.11.6"
  }
 },
 "nbformat": 4,
 "nbformat_minor": 2
}
