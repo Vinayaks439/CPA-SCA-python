{
 "cells": [
  {
   "cell_type": "markdown",
   "metadata": {},
   "source": [
    "CS984 - Introduction to Hardware Security\n",
    "\n",
    "Assignment - 1 \n",
    "\n",
    "Roll No: 233560040\n",
    "\n",
    "emailId: vinayaks23@iitk.ac.in\n",
    "\n",
    "Problem Statement.\n",
    "\n",
    "Daniel is a security engineer, and he has a got a project for side-channel analysis of\n",
    "an AES hardware implementation. He has already collected power traces for that\n",
    "AES implementation with a 128-bit key ‘K’ and have stored the traces in\n",
    "“traces_AES.csv” file. The first column in the csv file indicates the plaintext, the\n",
    "second column indicates the ciphertext and rest of the columns indicates the\n",
    "sample points. Now Daniel has to analyse the power traces and will have to find the\n",
    "AES key using Correlation Power Analysis (CPA). Help Daniel to perform the CPA\n",
    "attack.\n",
    "\n",
    "Given: \n",
    "\n",
    "The `traces_AES.csv` file contains three columns: **Plaintext**, **Ciphertext**, and **Traces**. This file represents actual power trace data collected from a power analysis experiment conducted on a chip. Each row corresponds to power trace measurements for 10 rounds of AES encryption associated with a specific plaintext-ciphertext pair."
   ]
  }
 ],
 "metadata": {
  "kernelspec": {
   "display_name": ".venv",
   "language": "python",
   "name": "python3"
  },
  "language_info": {
   "name": "python",
   "version": "3.11.6"
  }
 },
 "nbformat": 4,
 "nbformat_minor": 2
}
