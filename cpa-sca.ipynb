{
 "cells": [
  {
   "cell_type": "markdown",
   "metadata": {},
   "source": [
    "\n",
    "# <div style=\"text-align: center\"> CS984 - Introduction to Hardware Security </div> \n",
    "\n",
    "##### <div style=\"text-align: right\"> Assignment - 1  </div>  \n",
    "\n",
    "##### <div style=\"text-align: right\"> Roll No: 233560040  </div>  \n",
    "\n",
    "##### <div style=\"text-align: right\"> emailId: vinayaks23@iitk.ac.in  </div>   \n",
    "\n",
    "## Problem Statement.\n",
    "\n",
    "Daniel is a security engineer, and he has a got a project for side-channel analysis of\n",
    "an AES hardware implementation. He has already collected power traces for that\n",
    "AES implementation with a 128-bit key ‘K’ and have stored the traces in\n",
    "“traces_AES.csv” file. The first column in the csv file indicates the plaintext, the\n",
    "second column indicates the ciphertext and rest of the columns indicates the\n",
    "sample points. Now Daniel has to analyse the power traces and will have to find the\n",
    "AES key using Correlation Power Analysis (CPA). Help Daniel to perform the CPA\n",
    "attack.\n",
    "\n",
    "### Given: \n",
    "\n",
    "The `traces_AES.csv` file contains three columns: **Plaintext**, **Ciphertext**, and **Traces**. This file represents actual power trace data collected from a power analysis experiment conducted on a chip. Each row corresponds to power trace measurements for 10 rounds of AES encryption associated with a specific plaintext-ciphertext pair.\n",
    "\n",
    "\n",
    "### Expectation:\n",
    "\n",
    "We have to help Daniel in analysing the power traces from the traces_AES.csv file and recover the entire AES key using Correlation Power Analysis (CPA) attack."
   ]
  },
  {
   "cell_type": "markdown",
   "metadata": {},
   "source": [
    "## Correlation Power Analysis (CPA).\n",
    "\n",
    "Like in the DoM based DPA attack, the Correlation Power Attack (CPA) also relies on targeting an intermediate computation, typically the input or output of an S-Box. These intermediate values are as seen previously computed from a known value, typically the ciphertext and a portion of the key, which is guessed. The power model is subsequently used to develop a hypothetical power trace of the device for a given input to the cipher. This hypothetical power values are then stored in a matrix for several inputs and can be indexed by the known value of the ciphertext or the guessed key byte. This matrix is denoted as H, the hypothetical power matrix. Along with this, the attacker also observes the actual power traces, and stores them in a matrix for several inputs. The actual power values can be indexed by the known value of the ciphertext and the time instance when the power value was observed. This matrix is denoted as T, the real power matrix. It may be observed that one of the columns of the matrix H corresponds to the actual key, denoted as kc. In order to distinguish the key from the others, the attacker looks for similarity between the columns of the matrix H and those of the matrix T. The similarity is typically computed\n",
    "using the Pearson’s Correlation coeﬃcient as defined in formula below. \n",
    "\n",
    "\n",
    "\n",
    "$$\"\"result[i][j] = \\frac{\\sum_{k=0}^{N_{Sample}} (hPower[i][k] - meanH[i])(trace[j][k] - meanTrace[j])}{\\sqrt{\\sum_{k=0}^{N_{Sample}} (hPower[i][k] - meanH[i])^2 \\sum_{k=0}^{N_{Sample}} (trace[j][k] - meanTrace[j])^2}}$$\n",
    "\n",
    "or Simplified as \n",
    "\n",
    "$$r = \\frac{n \\sum xy - (\\sum x)(\\sum y)}{\\sqrt{[n \\sum x^2 - (\\sum x)^2][n \\sum y^2 - (\\sum y)^2]}}$$"
   ]
  },
  {
   "cell_type": "markdown",
   "metadata": {},
   "source": [
    "## Analysis of Trace data.\n",
    "\n",
    "The dataset contains 30,000 rows and 152 columns, with two columns containing plaintext and ciphertext, and the remaining columns containing traces of power consumption.\n",
    "\n",
    "The values in the Traces column are as follows:\n",
    "\n",
    "[383, 384, 382, 381, 385, 371, 370, 372, 380, 369, 373, 379, 368, 374, 386, 367, 376, 378, 377, 375, 366, 360, 361, 365, 364, 359, 363, 362, 387, 358, 388, 357, 356, 389, 355, 390, 354, 391, 353, 352, 392, 351, 393, 350, 349, 348, 394, 395, 346, 344]\n",
    "\n",
    "The remaining columns, except for Plaintext and Ciphertext, contain integer values representing power consumption traces."
   ]
  },
  {
   "cell_type": "code",
   "execution_count": 83,
   "metadata": {},
   "outputs": [
    {
     "name": "stdout",
     "output_type": "stream",
     "text": [
      "| Plaintext                        | Ciphertext                       | Traces   | Unnamed: 3   | Unnamed: 4   | Unnamed: 5   | Unnamed: 6   | Unnamed: 7   | Unnamed: 8   | Unnamed: 9   | Unnamed: 10   | Unnamed: 11   | Unnamed: 12   | Unnamed: 13   | Unnamed: 14   | Unnamed: 15   | Unnamed: 16   | Unnamed: 17   | Unnamed: 18   | Unnamed: 19   | Unnamed: 20   | Unnamed: 21   | Unnamed: 22   | Unnamed: 23   | Unnamed: 24   | Unnamed: 25   | Unnamed: 26   | Unnamed: 27   | Unnamed: 28   | Unnamed: 29   | Unnamed: 30   | Unnamed: 31   | Unnamed: 32   | Unnamed: 33   | Unnamed: 34   | Unnamed: 35   | Unnamed: 36   | Unnamed: 37   | Unnamed: 38   | Unnamed: 39   | Unnamed: 40   | Unnamed: 41   | Unnamed: 42   | Unnamed: 43   | Unnamed: 44   | Unnamed: 45   | Unnamed: 46   | Unnamed: 47   | Unnamed: 48   | Unnamed: 49   | Unnamed: 50   | Unnamed: 51   | Unnamed: 52   | Unnamed: 53   | Unnamed: 54   | Unnamed: 55   | Unnamed: 56   | Unnamed: 57   | Unnamed: 58   | Unnamed: 59   | Unnamed: 60   | Unnamed: 61   | Unnamed: 62   | Unnamed: 63   | Unnamed: 64   | Unnamed: 65   | Unnamed: 66   | Unnamed: 67   | Unnamed: 68   | Unnamed: 69   | Unnamed: 70   | Unnamed: 71   | Unnamed: 72   | Unnamed: 73   | Unnamed: 74   | Unnamed: 75   | Unnamed: 76   | Unnamed: 77   | Unnamed: 78   | Unnamed: 79   | Unnamed: 80   | Unnamed: 81   | Unnamed: 82   | Unnamed: 83   | Unnamed: 84   | Unnamed: 85   | Unnamed: 86   | Unnamed: 87   | Unnamed: 88   | Unnamed: 89   | Unnamed: 90   | Unnamed: 91   | Unnamed: 92   | Unnamed: 93   | Unnamed: 94   | Unnamed: 95   | Unnamed: 96   | Unnamed: 97   | Unnamed: 98   | Unnamed: 99   | Unnamed: 100   | Unnamed: 101   | Unnamed: 102   | Unnamed: 103   | Unnamed: 104   | Unnamed: 105   | Unnamed: 106   | Unnamed: 107   | Unnamed: 108   | Unnamed: 109   | Unnamed: 110   | Unnamed: 111   | Unnamed: 112   | Unnamed: 113   | Unnamed: 114   | Unnamed: 115   | Unnamed: 116   | Unnamed: 117   | Unnamed: 118   | Unnamed: 119   | Unnamed: 120   | Unnamed: 121   | Unnamed: 122   | Unnamed: 123   | Unnamed: 124   | Unnamed: 125   | Unnamed: 126   | Unnamed: 127   | Unnamed: 128   | Unnamed: 129   | Unnamed: 130   | Unnamed: 131   | Unnamed: 132   | Unnamed: 133   | Unnamed: 134   | Unnamed: 135   | Unnamed: 136   | Unnamed: 137   | Unnamed: 138   | Unnamed: 139   | Unnamed: 140   | Unnamed: 141   | Unnamed: 142   | Unnamed: 143   | Unnamed: 144   | Unnamed: 145   | Unnamed: 146   | Unnamed: 147   | Unnamed: 148   | Unnamed: 149   | Unnamed: 150   | Unnamed: 151   |\n",
      "|:---------------------------------|:---------------------------------|:---------|:-------------|:-------------|:-------------|:-------------|:-------------|:-------------|:-------------|:--------------|:--------------|:--------------|:--------------|:--------------|:--------------|:--------------|:--------------|:--------------|:--------------|:--------------|:--------------|:--------------|:--------------|:--------------|:--------------|:--------------|:--------------|:--------------|:--------------|:--------------|:--------------|:--------------|:--------------|:--------------|:--------------|:--------------|:--------------|:--------------|:--------------|:--------------|:--------------|:--------------|:--------------|:--------------|:--------------|:--------------|:--------------|:--------------|:--------------|:--------------|:--------------|:--------------|:--------------|:--------------|:--------------|:--------------|:--------------|:--------------|:--------------|:--------------|:--------------|:--------------|:--------------|:--------------|:--------------|:--------------|:--------------|:--------------|:--------------|:--------------|:--------------|:--------------|:--------------|:--------------|:--------------|:--------------|:--------------|:--------------|:--------------|:--------------|:--------------|:--------------|:--------------|:--------------|:--------------|:--------------|:--------------|:--------------|:--------------|:--------------|:--------------|:--------------|:--------------|:--------------|:--------------|:--------------|:--------------|:--------------|:--------------|:---------------|:---------------|:---------------|:---------------|:---------------|:---------------|:---------------|:---------------|:---------------|:---------------|:---------------|:---------------|:---------------|:---------------|:---------------|:---------------|:---------------|:---------------|:---------------|:---------------|:---------------|:---------------|:---------------|:---------------|:---------------|:---------------|:---------------|:---------------|:---------------|:---------------|:---------------|:---------------|:---------------|:---------------|:---------------|:---------------|:---------------|:---------------|:---------------|:---------------|:---------------|:---------------|:---------------|:---------------|:---------------|:---------------|:---------------|:---------------|:---------------|:---------------|:---------------|:---------------|\n",
      "| 0                                | 7df76b0c1ab899b33e42f047b91b546f | 366      | 237          | 206          | 278          | 350          | 308          | 338          | 330          | 315           | 295           | 164           | 313           | 322           | 263           | 271           | 211           | 292           | 260           | 185           | 253           | 270           | 303           | 343           | 276           | 314           | 280           | 170           | 330           | 324           | 290           | 320           | 340           | 350           | 217           | 143           | 225           | 296           | 292           | 274           | 245           | 246           | 283           | 172           | 240           | 246           | 224           | 288           | 298           | 273           | 206           | 145           | 315           | 325           | 244           | 260           | 230           | 312           | 311           | 177           | 247           | 263           | 298           | 305           | 250           | 256           | 164           | 139           | 288           | 258           | 256           | 252           | 324           | 325           | 259           | 164           | 229           | 307           | 267           | 306           | 264           | 305           | 227           | 195           | 288           | 324           | 286           | 344           | 278           | 329           | 295           | 177           | 346           | 362           | 315           | 335           | 270           | 352           | 236           | 197            | 280            | 308            | 313            | 347            | 302            | 310            | 278            | 163            | 306            | 293            | 265            | 314            | 336            | 348            | 212            | 164            | 243            | 331            | 324            | 319            | 263            | 268            | 310            | 171            | 260            | 266            | 240            | 295            | 309            | 280            | 214            | 148            | 297            | 311            | 263            | 268            | 228            | 295            | 284            | 159            | 225            | 240            | 291            | 271            | 266            | 273            | 177            | 150            | 310            | 305            | 261            |\n",
      "| 7df76b0c1ab899b33e42f047b91b546f | a9dcf5aa138056e259e7be57958e72d8 | 389      | 252          | 208          | 342          | 382          | 362          | 354          | 335          | 354           | 343           | 190           | 295           | 275           | 307           | 309           | 263           | 270           | 222           | 169           | 315           | 326           | 302           | 322           | 357           | 370           | 333           | 184           | 329           | 353           | 329           | 339           | 305           | 303           | 272           | 181           | 273           | 269           | 293           | 299           | 318           | 297           | 277           | 144           | 321           | 342           | 281           | 270           | 287           | 308           | 253           | 175           | 246           | 252           | 304           | 315           | 279           | 294           | 298           | 158           | 318           | 286           | 280           | 275           | 304           | 308           | 202           | 135           | 266           | 299           | 305           | 285           | 253           | 260           | 313           | 186           | 287           | 291           | 272           | 315           | 303           | 307           | 212           | 171           | 345           | 365           | 309           | 318           | 276           | 362           | 313           | 197           | 324           | 331           | 343           | 363           | 302           | 334           | 221           | 213            | 334            | 358            | 331            | 350            | 362            | 374            | 340            | 180            | 323            | 344            | 321            | 334            | 304            | 311            | 269            | 195            | 301            | 310            | 313            | 331            | 332            | 326            | 324            | 173            | 337            | 350            | 292            | 301            | 303            | 334            | 271            | 190            | 285            | 282            | 326            | 340            | 312            | 310            | 290            | 170            | 317            | 293            | 285            | 305            | 330            | 330            | 220            | 144            | 264            | 285            | 292            |\n",
      "| a9dcf5aa138056e259e7be57958e72d8 | 626caecce6b25a25524cb32b7ec1374e | 376      | 255          | 213          | 329          | 363          | 372          | 361          | 337          | 319           | 306           | 163           | 304           | 304           | 271           | 273           | 277           | 318           | 276           | 208           | 272           | 283           | 329           | 343           | 324           | 326           | 331           | 173           | 340           | 318           | 300           | 315           | 338           | 339           | 247           | 159           | 282           | 309           | 312           | 290           | 258           | 260           | 308           | 179           | 267           | 271           | 284           | 307           | 318           | 282           | 217           | 148           | 317           | 330           | 275           | 274           | 282           | 321           | 319           | 181           | 261           | 261           | 304           | 311           | 269           | 269           | 208           | 146           | 303           | 281           | 284           | 273           | 335           | 347           | 311           | 178           | 311           | 351           | 308           | 339           | 307           | 311           | 260           | 190           | 317           | 324           | 316           | 336           | 296           | 333           | 291           | 175           | 342           | 352           | 327           | 330           | 306           | 356           | 242           | 231            | 331            | 351            | 343            | 379            | 333            | 342            | 342            | 179            | 337            | 327            | 290            | 325            | 329            | 338            | 229            | 162            | 304            | 334            | 330            | 330            | 300            | 303            | 333            | 188            | 304            | 303            | 293            | 313            | 322            | 302            | 228            | 157            | 337            | 346            | 282            | 284            | 298            | 326            | 306            | 171            | 287            | 275            | 324            | 315            | 274            | 269            | 212            | 158            | 301            | 278            | 276            |\n",
      "| 626caecce6b25a25524cb32b7ec1374e | 4803a027daefd5b41f39cb5fb2934029 | 386      | 252          | 202          | 335          | 376          | 356          | 347          | 339          | 349           | 352           | 195           | 303           | 281           | 314           | 322           | 293           | 316           | 257           | 194           | 345           | 346           | 347           | 343           | 363           | 374           | 349           | 190           | 336           | 365           | 340           | 361           | 338           | 335           | 277           | 197           | 334           | 323           | 326           | 331           | 328           | 305           | 305           | 160           | 342           | 352           | 280           | 272           | 298           | 326           | 268           | 190           | 278           | 277           | 321           | 339           | 272           | 284           | 305           | 158           | 327           | 306           | 305           | 294           | 339           | 335           | 222           | 155           | 294           | 320           | 324           | 310           | 283           | 288           | 352           | 201           | 299           | 309           | 287           | 328           | 342           | 335           | 246           | 179           | 345           | 362           | 324           | 337           | 288           | 370           | 329           | 209           | 343           | 346           | 355           | 366           | 311           | 336           | 216           | 207            | 342            | 340            | 315            | 335            | 359            | 376            | 341            | 182            | 335            | 362            | 336            | 344            | 336            | 346            | 292            | 203            | 320            | 328            | 328            | 345            | 340            | 332            | 331            | 179            | 329            | 341            | 286            | 296            | 317            | 335            | 271            | 193            | 299            | 300            | 333            | 342            | 316            | 314            | 308            | 175            | 321            | 289            | 281            | 309            | 313            | 322            | 213            | 163            | 281            | 315            | 307            |\n",
      "| 4803a027daefd5b41f39cb5fb2934029 | 28a32a13e693d5bea7155f9eebb09050 | 379      | 256          | 211          | 329          | 367          | 364          | 348          | 336          | 318           | 305           | 167           | 304           | 305           | 247           | 251           | 265           | 298           | 273           | 205           | 298           | 313           | 337           | 357           | 329           | 336           | 336           | 178           | 351           | 349           | 318           | 335           | 344           | 355           | 247           | 160           | 306           | 317           | 317           | 293           | 260           | 267           | 316           | 185           | 277           | 277           | 289           | 313           | 313           | 276           | 204           | 144           | 298           | 306           | 258           | 255           | 276           | 312           | 315           | 180           | 280           | 275           | 315           | 325           | 268           | 266           | 213           | 151           | 321           | 292           | 298           | 300           | 342           | 354           | 323           | 176           | 309           | 345           | 304           | 335           | 289           | 292           | 261           | 192           | 330           | 331           | 327           | 349           | 312           | 341           | 307           | 182           | 358           | 370           | 339           | 341           | 314           | 359           | 241           | 230            | 327            | 335            | 336            | 368            | 334            | 343            | 334            | 177            | 322            | 296            | 280            | 322            | 325            | 332            | 231            | 151            | 288            | 332            | 319            | 310            | 278            | 275            | 323            | 182            | 286            | 294            | 295            | 310            | 325            | 305            | 231            | 161            | 335            | 348            | 304            | 306            | 320            | 339            | 320            | 183            | 280            | 272            | 311            | 312            | 251            | 258            | 208            | 157            | 304            | 280            | 277            |\n",
      "<class 'pandas.core.frame.DataFrame'>\n",
      "RangeIndex: 30000 entries, 0 to 29999\n",
      "Columns: 152 entries, Plaintext to Unnamed: 151\n",
      "dtypes: int64(150), object(2)\n",
      "memory usage: 34.8+ MB\n",
      "None\n"
     ]
    }
   ],
   "source": [
    "import pandas as pd\n",
    "import numpy as np\n",
    "\n",
    "pd.set_option('display.max_rows', None)\n",
    "pd.set_option('display.max_columns', None)\n",
    "\n",
    "df = pd.read_csv('traces_AES.csv')\n",
    "\n",
    "print(df.head().to_markdown(index=False, numalign=\"left\", stralign=\"left\"))\n",
    "\n",
    "print(df.info())"
   ]
  },
  {
   "cell_type": "markdown",
   "metadata": {},
   "source": [
    "### Extract Columns\n",
    "\n",
    "The columns **traces** , **Ciphertext** and **Plaintext** are extracted in the following code. Unfortunately in the csv file the 0x0 is just a single character we need to format it to take 128bits. Hence we use the function ***plaintextformat*** as shown below\n",
    "\n",
    "```python \n",
    "def plaintextformat(plaintext):\n",
    "    if plaintext == '0':\n",
    "        return '00000000000000000000000000000000'\n",
    "    else:\n",
    "        return plaintext\n",
    "```        "
   ]
  },
  {
   "cell_type": "code",
   "execution_count": 84,
   "metadata": {},
   "outputs": [
    {
     "data": {
      "text/plain": [
       "array([[389, 252, 208, ..., 264, 285, 292],\n",
       "       [376, 255, 213, ..., 301, 278, 276],\n",
       "       [386, 252, 202, ..., 281, 315, 307],\n",
       "       ...,\n",
       "       [367, 296, 211, ..., 290, 258, 268],\n",
       "       [372, 300, 213, ..., 323, 296, 294],\n",
       "       [387, 294, 205, ..., 278, 285, 283]], shape=(29999, 150))"
      ]
     },
     "execution_count": 84,
     "metadata": {},
     "output_type": "execute_result"
    }
   ],
   "source": [
    "traces = df.iloc[1:, 2:].values\n",
    "traces"
   ]
  },
  {
   "cell_type": "code",
   "execution_count": 85,
   "metadata": {},
   "outputs": [
    {
     "data": {
      "text/plain": [
       "array(['00000000000000000000000000000000',\n",
       "       '7df76b0c1ab899b33e42f047b91b546f',\n",
       "       'a9dcf5aa138056e259e7be57958e72d8', ...,\n",
       "       '2fe99af02c983246ff228ced17239b24',\n",
       "       '96acd213cd6ac463b3be6859d725f6c6',\n",
       "       '80c87c1dc35a8b945f9e9f6d5f1db1d1'], shape=(30000,), dtype=object)"
      ]
     },
     "execution_count": 85,
     "metadata": {},
     "output_type": "execute_result"
    }
   ],
   "source": [
    "def plaintextformat(plaintext):\n",
    "    if plaintext == '0':\n",
    "        return '00000000000000000000000000000000'\n",
    "    else:\n",
    "        return plaintext\n",
    "    \n",
    "plaintexts = df.iloc[:, 0].values\n",
    "formattedplaintext = np.array([plaintextformat(pt) for pt in plaintexts],dtype=object)\n",
    "formattedplaintext"
   ]
  },
  {
   "cell_type": "code",
   "execution_count": 86,
   "metadata": {},
   "outputs": [
    {
     "data": {
      "text/plain": [
       "array(['7df76b0c1ab899b33e42f047b91b546f',\n",
       "       'a9dcf5aa138056e259e7be57958e72d8',\n",
       "       '626caecce6b25a25524cb32b7ec1374e', ...,\n",
       "       '96acd213cd6ac463b3be6859d725f6c6',\n",
       "       '80c87c1dc35a8b945f9e9f6d5f1db1d1',\n",
       "       'e35457b42cc2c384f5b40dc80312cd71'], shape=(30000,), dtype=object)"
      ]
     },
     "execution_count": 86,
     "metadata": {},
     "output_type": "execute_result"
    }
   ],
   "source": [
    "ciphertexts = df.iloc[:, 1].values\n",
    "ciphertexts"
   ]
  },
  {
   "cell_type": "markdown",
   "metadata": {},
   "source": [
    "Now that we have the columns extracted we define the helper Objects and functions."
   ]
  },
  {
   "cell_type": "code",
   "execution_count": 87,
   "metadata": {},
   "outputs": [
    {
     "data": {
      "text/plain": [
       "(29999, 150)"
      ]
     },
     "execution_count": 87,
     "metadata": {},
     "output_type": "execute_result"
    }
   ],
   "source": [
    "NSample,NPoint= np.shape(traces)\n",
    "NSample,NPoint"
   ]
  },
  {
   "cell_type": "markdown",
   "metadata": {},
   "source": [
    "## Computing Correlation Coeﬃcient for Simulated Power Traces for AES\n",
    "\n",
    "To analyze the power consumption of an AES implementation, we simulate its behavior, employing the Hamming Weight model for this example. We collect a set of real power measurements, stored as `trace[NSample][NPoint]`, where `NSample` represents the number of encryption operations and `NPoint` denotes the timing points of interest. In recorded data traces_AES.csv, `NPoint` is 150.\n",
    "\n",
    "To create hypothetical power consumption data, the attacker focuses on the final round (Round 10) of AES. The attacker aims to recover a specific key byte. To do this, they need to predict the power consumption based on a guess of that key byte and the known ciphertext.\n",
    "\n",
    "The process involves analyzing the transitions that occur in the AES registers during Round 10. Due to the ShiftRows operation within AES, the Hamming Weight calculations must account for the byte reordering. For example, to estimate the power consumption associated with the change in register R1, the attacker needs to compute the Hamming Weight between the state of R1 before and after the final round's SubBytes and key addition.\n",
    "\n",
    "Specifically, the attacker targets a key byte (e.g., `k5`). They know the corresponding ciphertext byte (e.g., `C5`). To calculate the hypothetical power consumption, they perform the following steps:\n",
    "\n",
    "1.  **Key Guess:** The attacker guesses a value for the key byte `k5`.\n",
    "2.  **Ciphertext Manipulation:** They XOR the guessed key byte `k5` with the corresponding ciphertext byte `C5`, creating `SCipher`.\n",
    "3.  **Inverse SubBytes:** They apply the Inverse SubBytes operation to the result (`InverseSBOX[SCipher]`). This step reverses part of the final round transformation, yielding an approximation of the state before the final SubBytes.\n",
    "4.  **Hamming Weight Calculation:** They compute the Hamming Weight of the result of XOR between ShiftRow byte and the result of the Inverse SubBytes operation. This Hamming Weight represents the predicted power consumption related to the state transition.\n",
    "5.  **Correlation Analysis:** This process is repeated for all possible values of `k5`, generating a set of hypothetical power traces. These hypothetical traces are then compared to the real power traces using correlation analysis. The key guess that yields the highest correlation coefficient is considered the most likely correct value for `k5`.\n",
    "\n",
    "Essentially, the attacker is leveraging the known ciphertext and their key guesses to simulate the power consumption during the final round of AES. By comparing these simulations with the actual power measurements, they can statistically identify the correct key byte.\n"
   ]
  },
  {
   "cell_type": "markdown",
   "metadata": {},
   "source": [
    "### Helper Objects and Functions\n",
    "\n",
    "We need inverse S-Box tuple which is a tuple of hex values that make up the inverse of S-Box (SubBytes). It is defined as follows."
   ]
  },
  {
   "cell_type": "code",
   "execution_count": 88,
   "metadata": {},
   "outputs": [],
   "source": [
    "InverseSbox = (\n",
    "    0x52, 0x09, 0x6A, 0xD5, 0x30, 0x36, 0xA5, 0x38, 0xBF, 0x40, 0xA3, 0x9E, 0x81, 0xF3, 0xD7, 0xFB,\n",
    "    0x7C, 0xE3, 0x39, 0x82, 0x9B, 0x2F, 0xFF, 0x87, 0x34, 0x8E, 0x43, 0x44, 0xC4, 0xDE, 0xE9, 0xCB,\n",
    "    0x54, 0x7B, 0x94, 0x32, 0xA6, 0xC2, 0x23, 0x3D, 0xEE, 0x4C, 0x95, 0x0B, 0x42, 0xFA, 0xC3, 0x4E,\n",
    "    0x08, 0x2E, 0xA1, 0x66, 0x28, 0xD9, 0x24, 0xB2, 0x76, 0x5B, 0xA2, 0x49, 0x6D, 0x8B, 0xD1, 0x25,\n",
    "    0x72, 0xF8, 0xF6, 0x64, 0x86, 0x68, 0x98, 0x16, 0xD4, 0xA4, 0x5C, 0xCC, 0x5D, 0x65, 0xB6, 0x92,\n",
    "    0x6C, 0x70, 0x48, 0x50, 0xFD, 0xED, 0xB9, 0xDA, 0x5E, 0x15, 0x46, 0x57, 0xA7, 0x8D, 0x9D, 0x84,\n",
    "    0x90, 0xD8, 0xAB, 0x00, 0x8C, 0xBC, 0xD3, 0x0A, 0xF7, 0xE4, 0x58, 0x05, 0xB8, 0xB3, 0x45, 0x06,\n",
    "    0xD0, 0x2C, 0x1E, 0x8F, 0xCA, 0x3F, 0x0F, 0x02, 0xC1, 0xAF, 0xBD, 0x03, 0x01, 0x13, 0x8A, 0x6B,\n",
    "    0x3A, 0x91, 0x11, 0x41, 0x4F, 0x67, 0xDC, 0xEA, 0x97, 0xF2, 0xCF, 0xCE, 0xF0, 0xB4, 0xE6, 0x73,\n",
    "    0x96, 0xAC, 0x74, 0x22, 0xE7, 0xAD, 0x35, 0x85, 0xE2, 0xF9, 0x37, 0xE8, 0x1C, 0x75, 0xDF, 0x6E,\n",
    "    0x47, 0xF1, 0x1A, 0x71, 0x1D, 0x29, 0xC5, 0x89, 0x6F, 0xB7, 0x62, 0x0E, 0xAA, 0x18, 0xBE, 0x1B,\n",
    "    0xFC, 0x56, 0x3E, 0x4B, 0xC6, 0xD2, 0x79, 0x20, 0x9A, 0xDB, 0xC0, 0xFE, 0x78, 0xCD, 0x5A, 0xF4,\n",
    "    0x1F, 0xDD, 0xA8, 0x33, 0x88, 0x07, 0xC7, 0x31, 0xB1, 0x12, 0x10, 0x59, 0x27, 0x80, 0xEC, 0x5F,\n",
    "    0x60, 0x51, 0x7F, 0xA9, 0x19, 0xB5, 0x4A, 0x0D, 0x2D, 0xE5, 0x7A, 0x9F, 0x93, 0xC9, 0x9C, 0xEF,\n",
    "    0xA0, 0xE0, 0x3B, 0x4D, 0xAE, 0x2A, 0xF5, 0xB0, 0xC8, 0xEB, 0xBB, 0x3C, 0x83, 0x53, 0x99, 0x61,\n",
    "    0x17, 0x2B, 0x04, 0x7E, 0xBA, 0x77, 0xD6, 0x26, 0xE1, 0x69, 0x14, 0x63, 0x55, 0x21, 0x0C, 0x7D,\n",
    ")"
   ]
  }
 ],
 "metadata": {
  "kernelspec": {
   "display_name": ".venv",
   "language": "python",
   "name": "python3"
  },
  "language_info": {
   "codemirror_mode": {
    "name": "ipython",
    "version": 3
   },
   "file_extension": ".py",
   "mimetype": "text/x-python",
   "name": "python",
   "nbconvert_exporter": "python",
   "pygments_lexer": "ipython3",
   "version": "3.11.6"
  }
 },
 "nbformat": 4,
 "nbformat_minor": 2
}
